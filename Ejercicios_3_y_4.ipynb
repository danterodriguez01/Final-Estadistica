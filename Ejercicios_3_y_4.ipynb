{
  "nbformat": 4,
  "nbformat_minor": 0,
  "metadata": {
    "colab": {
      "provenance": []
    },
    "kernelspec": {
      "name": "python3",
      "display_name": "Python 3"
    },
    "language_info": {
      "name": "python"
    }
  },
  "cells": [
    {
      "cell_type": "code",
      "execution_count": null,
      "metadata": {
        "id": "0dWxSzyHS4oT"
      },
      "outputs": [],
      "source": []
    },
    {
      "cell_type": "markdown",
      "source": [
        "## Pregunta 3\n"
      ],
      "metadata": {
        "id": "Tv74n8KfTHLp"
      }
    },
    {
      "cell_type": "markdown",
      "source": [
        "El análisis factorial es un método para modelar variables observadas y su estructura de covarianza en términos de un número menor de \"factores\" subyacentes no observables (latentes). Los factores generalmente se consideran conceptos o ideas amplios que pueden describir un fenómeno observado. Por ejemplo, un deseo básico de alcanzar cierto nivel social podría explicar la mayoría del comportamiento de consumo. Estos factores no observados son más interesantes para el científico social que las mediciones cuantitativas observadas.\n",
        "\n",
        "El análisis factorial es generalmente un método exploratorio/descriptivo que requiere muchos juicios subjetivos. Es una herramienta ampliamente utilizada y a menudo controvertida porque los modelos, métodos y subjetividad son tan flexibles que pueden surgir debates sobre las interpretaciones.\n",
        "\n",
        "El método es similar a los componentes principales aunque, como señala el libro de texto, el análisis factorial es más elaborado. En un sentido, el análisis factorial es una inversión de los componentes principales. En el análisis factorial, modelamos las variables observadas como funciones lineales de los \"factores\". En los componentes principales, creamos nuevas variables que son combinaciones lineales de las variables observadas. En ambos, PCA y FA, se reduce la dimensión de los datos. Recordemos que en PCA, la interpretación de los componentes principales a menudo no es muy clara. Una variable particular puede, en ocasiones, contribuir significativamente a más de uno de los componentes. Idealmente, nos gustaría que cada variable contribuyera significativamente solo a un componente. Se emplea una técnica llamada rotación de factores para lograr ese objetivo. Ejemplos de campos donde se involucra el análisis factorial incluyen fisiología, salud, inteligencia, sociología y, a veces, ecología, entre otros.\n"
      ],
      "metadata": {
        "id": "eGhNC0mlS9ru"
      }
    },
    {
      "cell_type": "markdown",
      "source": [
        "##Codigo de ejemplo:\n",
        "\n",
        "options ls=78;\n",
        "title \"Factor Analysis - Principal Component Method - Places Rated\";\n",
        "\n",
        "/* Ingresar los datos directamente en el programa */\n",
        "data places;\n",
        "  input climate housing health crime trans educate arts recreate econ id;\n",
        "  datalines;\n",
        "  70 150 200 300 50 100 60 80 120 1\n",
        "  60 120 190 330 55 95 65 85 115 2\n",
        "  75 130 210 310 60 105 70 75 130 3\n",
        "  80 140 180 320 52 98 62 90 125 4\n",
        "  65 110 195 340 58 102 68 78 118 5\n",
        "  ;\n",
        "run;\n",
        "\n",
        "/* Realizar las transformaciones logarítmicas */\n",
        "data places;\n",
        "  set places;\n",
        "  climate = log10(climate);\n",
        "  housing = log10(housing);\n",
        "  health = log10(health);\n",
        "  crime = log10(crime);\n",
        "  trans = log10(trans);\n",
        "  educate = log10(educate);\n",
        "  arts = log10(arts);\n",
        "  recreate = log10(recreate);\n",
        "  econ = log10(econ);\n",
        "run;\n",
        "\n",
        "/* Realizar análisis de factores usando el método de componentes principales */\n",
        "proc factor data=places method=principal nfactors=3 rotate=varimax simple scree ev preplot plot residuals;\n",
        "  var climate housing health crime trans educate arts recreate econ;\n",
        "run;\n",
        "\n"
      ],
      "metadata": {
        "id": "pjE958MRXeZs"
      }
    },
    {
      "cell_type": "markdown",
      "source": [
        "## Pregunta 4\n"
      ],
      "metadata": {
        "id": "FHnoqqlADQE1"
      }
    },
    {
      "cell_type": "markdown",
      "source": [
        "Ejercicio 3.1:\n",
        "Muestre que las suposiciones conducen a\n",
        "\\begin{equation*}\n",
        "\\operatorname{var}(y_i) = \\lambda_{i1}^2 + \\lambda_{i2}^2 + \\cdots + \\lambda_{im}^2 + \\psi_i\n",
        "\\end{equation*}\n",
        "Ejercicio 3.2:\n",
        "\\begin{equation*}\n",
        "\\operatorname{cov}(y, f) = \\Lambda\n",
        "\\end{equation*}\n",
        "Verifique directamente que se cumple (13.13).\n",
        "\n",
        "Ejercicio 3.3:\n",
        "Demuestre que\n",
        "\\begin{align*}\n",
        "\\mathbb{E}(f^) &= \\mathbb{E}(T^\\prime f) = 0\\\n",
        "\\operatorname{cov}(f^) &= \\operatorname{cov}(T^\\prime f) = I\n",
        "\\end{align*}\n",
        "donde $f^* = T^\\prime f$ como en (13.18), satisfaciendo los supuestos (13.6) y (13.7).\n",
        "\n",
        "Ejercicio 3.5:\n",
        "Demuestre que\n",
        "\\begin{equation*}\n",
        "\\sum_{i=1}^p \\sum_{j=1}^m \\hat{\\lambda}{ij}^2 = \\sum{j=1}^m \\theta_j = \\sum_{i=1}^p \\hat{h}_i^2\n",
        "\\end{equation*}\n",
        "es decir, que es igual a la suma de los primeros $m$ valores propios y también igual a la suma de todas las $p$ comunalidades, como en (13.46)."
      ],
      "metadata": {
        "id": "FD3dKAEZCbwO"
      }
    },
    {
      "cell_type": "markdown",
      "source": [
        "Ejercicio 3.1:\n",
        "\\begin{equation*}\n",
        "\\operatorname{var}(y_i) = \\operatorname{var}(y_i - \\mu_i) = \\operatorname{var}\\left(\\sum_{j=1}^m \\lambda_{ij}f_j + \\epsilon_i\\right) = \\sum_{j=1}^m \\lambda_{ij}^2 + \\psi_i\n",
        "\\end{equation*}\n",
        "Ejercicio 3.2:\n",
        "\\begin{align*}\n",
        "\\operatorname{cov}(y, f) &= \\operatorname{cov}(f + \\epsilon, f) &&\\text{[por (13.3)]} \\\n",
        "&= \\operatorname{cov}(f, f) &&\\text{[por (13.10)]} \\\n",
        "&= \\mathbb{E}[(f - \\mathbb{E}(f))(f - \\mathbb{E}(f))^\\prime] &&\\text{[por analogía a (3.31)]} \\\n",
        "&= \\mathbb{E}[(f - \\mathbb{E}(f))(f - \\mathbb{E}(f))^\\prime] \\\n",
        "&= \\operatorname{cov}(f) = \\Lambda &&\\text{[por (13.7)]}\n",
        "\\end{align*}\n",
        "Ejercicio 3.3:\n",
        "\\begin{align*}\n",
        "\\mathbb{E}(f^) &= \\mathbb{E}(T^\\prime f) = T^\\prime \\mathbb{E}(f) = T^\\prime 0 = 0 \\\n",
        "\\operatorname{cov}(f^) &= \\operatorname{cov}(T^\\prime f) = T^\\prime \\operatorname{cov}(f) T = T^\\prime I T = I\n",
        "\\end{align*}\n",
        "Ejercicio 3.5:\n",
        "\\begin{align*}\n",
        "\\sum_{i=1}^p \\sum_{j=1}^m \\hat{\\lambda}{ij}^2 &= \\sum{i=1}^p \\left[\\sum_{j=1}^m \\hat{\\lambda}{ij}^2\\right] &&\\text{[por (13.28)]} \\\n",
        "&= \\sum{i=1}^p \\hat{h}i^2\n",
        "\\end{align*}\n",
        "Intercambiando el orden de las sumatorias:\n",
        "\\begin{align*}\n",
        "\\sum{i=1}^p \\sum_{j=1}^m \\hat{\\lambda}{ij}^2 &= \\sum{j=1}^m \\sum_{i=1}^p \\hat{\\lambda}{ij}^2 \\\n",
        "&= \\sum{j=1}^m \\theta_j &&\\text{[por (13.29)]}\n",
        "\\end{align*}\n"
      ],
      "metadata": {
        "id": "qadvwaXOTKOa"
      }
    }
  ]
}